{
 "cells": [
  {
   "cell_type": "code",
   "execution_count": 8,
   "id": "77fa80b2-de08-4024-a289-0617218d96fe",
   "metadata": {
    "tags": []
   },
   "outputs": [
    {
     "name": "stdout",
     "output_type": "stream",
     "text": [
      "86\n",
      "38382578\n",
      "-2315.12\n",
      "['Feb-2012', 1926159]\n",
      "['Sep-2013', -2196167]\n"
     ]
    }
   ],
   "source": [
    "# Step 1 - Import and set path to budget_data.csv + set file output path\n",
    "\n",
    "import csv\n",
    "import pandas as pd\n",
    "from pathlib import Path\n",
    "spreadsheet = Path(\"/Users/mmu8315/Desktop/Fintech/Homework/challenge_two/budget_data.csv\")\n",
    "file_to_output = Path(\"/Users/mmu8315/Desktop/Fintech/Homework/challenge_two/python-homework/PyBank/Budget_Analysis.txt\")\n",
    "\n",
    "# Step 2 - Initialize variables\n",
    "\n",
    "total_months = 0 \n",
    "net_pl_total = 0\n",
    "month_change = [] \n",
    "net_change_list = []\n",
    "greatest_increase = [\" \", 0]\n",
    "greatest_decrease = [\" \", 9999999999999999999] \n",
    "\n",
    "# Step 3 - Read csv and skip header + first row\n",
    "\n",
    "with open(spreadsheet) as pnl_data: \n",
    "    reader = csv.reader(pnl_data)\n",
    "    header = next(reader)\n",
    "    \n",
    "    first_row = next(reader)\n",
    "    \n",
    "# Step 4 - Count total months \n",
    "\n",
    "    total_months = total_months + 1\n",
    "    \n",
    "# Step 5 - Define change variables\n",
    "\n",
    "    net_pl_total = net_pl_total + int(first_row[1])\n",
    "    previous_net = int(first_row[1])\n",
    "    \n",
    "# Step 6 - Find change of each consecutive month \n",
    "    \n",
    "    for row in reader:\n",
    "        total_months = total_months + 1 \n",
    "        net_pl_total = net_pl_total + int(row[1])\n",
    "        net_change = int(row[1]) - previous_net\n",
    "        previous_net = int(row[1])\n",
    "        net_change_list = net_change_list + [net_change]\n",
    "        month_change = month_change + [row[0]]\n",
    "        \n",
    "# Step 7 - Greatest increase in profits, date & value\n",
    "\n",
    "        if net_change > greatest_increase [1]:\n",
    "            greatest_increase [0] = row[0]\n",
    "            greatest_increase [1] = net_change\n",
    "            \n",
    "# Step 8 - Greatest decrease in profits, date & value\n",
    "            \n",
    "        if net_change < greatest_decrease [1]:\n",
    "            greatest_decrease [0] = row[0]\n",
    "            greatest_decrease [1] = net_change\n",
    "            \n",
    "# Step 9 - Find average change\n",
    "            \n",
    "avg_change = round(sum(net_change_list)/len(net_change_list),2)\n",
    "            \n",
    "# Step 10 - Print check variables\n",
    "\n",
    "print(total_months)\n",
    "print(net_pl_total)\n",
    "print(avg_change)\n",
    "print(greatest_increase)\n",
    "print(greatest_decrease)\n",
    "\n",
    "# Step 11 - Export to .txt\n",
    "\n",
    "with open(file_to_output, \"w\") as txt_file:\n",
    "    txt_file.write(f\"Financial Analysis\\n\")\n",
    "    txt_file.write(f\"----------------------------\\n\")\n",
    "    txt_file.write(f\"Total Months: {total_months}\\n\")\n",
    "    txt_file.write(f\"Total: ${net_pl_total}\\n\")\n",
    "    txt_file.write(f\"Average  Change: ${avg_change}\\n\")\n",
    "    txt_file.write(f\"Greatest Increase in Profits: {greatest_increase[0]} (${greatest_increase[1]})\\n\")\n",
    "    txt_file.write(f\"Greatest Decrease in Profits: {greatest_decrease[0]} (${greatest_decrease[1]})\\n\")\n",
    "    "
   ]
  },
  {
   "cell_type": "code",
   "execution_count": null,
   "id": "6bb9e805-6803-4983-bbea-436d1b129dfa",
   "metadata": {},
   "outputs": [],
   "source": []
  }
 ],
 "metadata": {
  "kernelspec": {
   "display_name": "Python 3 (ipykernel)",
   "language": "python",
   "name": "python3"
  },
  "language_info": {
   "codemirror_mode": {
    "name": "ipython",
    "version": 3
   },
   "file_extension": ".py",
   "mimetype": "text/x-python",
   "name": "python",
   "nbconvert_exporter": "python",
   "pygments_lexer": "ipython3",
   "version": "3.10.11"
  }
 },
 "nbformat": 4,
 "nbformat_minor": 5
}
